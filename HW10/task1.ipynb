{
 "cells": [
  {
   "cell_type": "code",
   "execution_count": 20,
   "metadata": {},
   "outputs": [],
   "source": [
    "%reload_ext line_profiler"
   ]
  },
  {
   "cell_type": "markdown",
   "metadata": {},
   "source": [
    "## Original code"
   ]
  },
  {
   "cell_type": "code",
   "execution_count": 18,
   "metadata": {},
   "outputs": [
    {
     "name": "stdout",
     "output_type": "stream",
     "text": [
      "Timer unit: 1e-09 s\n",
      "\n",
      "Total time: 0.035329 s\n",
      "File: /var/folders/d5/_b51qwzx4f7__pl7x_l5jnkw0000gn/T/ipykernel_27225/4087370133.py\n",
      "Function: res_skimage at line 7\n",
      "\n",
      "Line #      Hits         Time  Per Hit   % Time  Line Contents\n",
      "==============================================================\n",
      "     7                                           def res_skimage(imgs):\n",
      "     8         1       5000.0   5000.0      0.0      new_size = (imgs[1].shape[0] // 2, imgs[1].shape[1] // 2)\n",
      "     9         1          0.0      0.0      0.0      res_im = []\n",
      "    10       201      90000.0    447.8      0.3      for im in imgs:\n",
      "    11       200   35072000.0 175360.0     99.3          image_resized = resize(im, new_size, anti_aliasing=True)\n",
      "    12       200     105000.0    525.0      0.3          res_im.append(image_resized)\n",
      "    13         1      57000.0  57000.0      0.2      return np.asarray(res_im)"
     ]
    }
   ],
   "source": [
    "import numpy as np\n",
    "from skimage import data, color\n",
    "from skimage.transform import resize\n",
    "\n",
    "imgs = np.uint8(data.lfw_subset() * 255)\n",
    "\n",
    "def res_skimage(imgs):\n",
    "    new_size = (imgs[1].shape[0] // 2, imgs[1].shape[1] // 2)\n",
    "    res_im = []\n",
    "    for im in imgs:\n",
    "        image_resized = resize(im, new_size, anti_aliasing=True)\n",
    "        res_im.append(image_resized)\n",
    "    return np.asarray(res_im)\n",
    "\n",
    "%lprun -f res_skimage res_skimage(imgs)"
   ]
  },
  {
   "cell_type": "markdown",
   "metadata": {},
   "source": [
    "## Modified code"
   ]
  },
  {
   "cell_type": "code",
   "execution_count": 19,
   "metadata": {},
   "outputs": [
    {
     "name": "stdout",
     "output_type": "stream",
     "text": [
      "Timer unit: 1e-09 s\n",
      "\n",
      "Total time: 0.025083 s\n",
      "File: /var/folders/d5/_b51qwzx4f7__pl7x_l5jnkw0000gn/T/ipykernel_27225/1607038656.py\n",
      "Function: res_skimage at line 8\n",
      "\n",
      "Line #      Hits         Time  Per Hit   % Time  Line Contents\n",
      "==============================================================\n",
      "     8                                           def res_skimage(imgs):\n",
      "     9         1       4000.0   4000.0      0.0      new_size = (imgs[1].shape[0] // 2, imgs[1].shape[1] // 2)\n",
      "    10         1   25079000.0    3e+07    100.0      res_im = np.array([resize(im, new_size, anti_aliasing=True) for im in imgs])\n",
      "    11         1          0.0      0.0      0.0      return res_im"
     ]
    }
   ],
   "source": [
    "import numpy as np\n",
    "from skimage import data\n",
    "from skimage.transform import resize\n",
    "\n",
    "# Load images\n",
    "imgs = np.uint8(data.lfw_subset() * 255)\n",
    "\n",
    "def res_skimage(imgs):\n",
    "    new_size = (imgs[1].shape[0] // 2, imgs[1].shape[1] // 2)\n",
    "    res_im = np.array([resize(im, new_size, anti_aliasing=True) for im in imgs])\n",
    "    return res_im\n",
    "\n",
    "%lprun -f res_skimage res_skimage(imgs)"
   ]
  },
  {
   "cell_type": "code",
   "execution_count": 15,
   "metadata": {},
   "outputs": [
    {
     "name": "stdout",
     "output_type": "stream",
     "text": [
      "Timer unit: 1e-09 s\n",
      "\n",
      "Total time: 0.031192 s\n",
      "File: /var/folders/d5/_b51qwzx4f7__pl7x_l5jnkw0000gn/T/ipykernel_27225/3677311644.py\n",
      "Function: res_skimage at line 8\n",
      "\n",
      "Line #      Hits         Time  Per Hit   % Time  Line Contents\n",
      "==============================================================\n",
      "     8                                           def res_skimage(imgs):\n",
      "     9         1       4000.0   4000.0      0.0      new_size = (imgs[1].shape[0] // 2, imgs[1].shape[1] // 2)\n",
      "    10         1   31188000.0    3e+07    100.0      res_im = np.asarray([resize(im, new_size, anti_aliasing=True) for im in imgs])\n",
      "    11         1          0.0      0.0      0.0      return res_im"
     ]
    }
   ],
   "source": [
    "import numpy as np\n",
    "from skimage import data\n",
    "from skimage.transform import resize\n",
    "\n",
    "# Load images\n",
    "imgs = np.uint8(data.lfw_subset() * 255)\n",
    "\n",
    "def res_skimage(imgs):\n",
    "    new_size = (imgs[1].shape[0] // 2, imgs[1].shape[1] // 2)\n",
    "    res_im = np.asarray([resize(im, new_size, anti_aliasing=True) for im in imgs])\n",
    "    return res_im\n",
    "\n",
    "%lprun -f res_skimage res_skimage(imgs)"
   ]
  },
  {
   "cell_type": "code",
   "execution_count": null,
   "metadata": {},
   "outputs": [],
   "source": []
  }
 ],
 "metadata": {
  "kernelspec": {
   "display_name": "Python 3",
   "language": "python",
   "name": "python3"
  },
  "language_info": {
   "codemirror_mode": {
    "name": "ipython",
    "version": 3
   },
   "file_extension": ".py",
   "mimetype": "text/x-python",
   "name": "python",
   "nbconvert_exporter": "python",
   "pygments_lexer": "ipython3",
   "version": "3.11.11"
  }
 },
 "nbformat": 4,
 "nbformat_minor": 2
}
